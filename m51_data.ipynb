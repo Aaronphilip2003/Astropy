{
 "cells": [
  {
   "cell_type": "code",
   "execution_count": 1,
   "metadata": {},
   "outputs": [],
   "source": [
    "import numpy as np\n",
    "from astropy import units as u\n",
    "from astropy.time import Time\n",
    "from astropy.coordinates import SkyCoord\n",
    "from astropy.coordinates import EarthLocation\n",
    "import pytz\n",
    "%matplotlib inline\n",
    "from astroplan import Observer, FixedTarget\n",
    "from astropy.utils.iers import conf\n",
    "conf.auto_max_age = None\n",
    "from astroplan import download_IERS_A \n",
    "from astropy.coordinates import get_sun, get_moon, get_body\n",
    "from astroplan import moon_illumination"
   ]
  },
  {
   "cell_type": "code",
   "execution_count": 2,
   "metadata": {},
   "outputs": [
    {
     "data": {
      "text/plain": [
       "<Time object: scale='utc' format='datetime' value=2022-03-10 11:53:15.274510>"
      ]
     },
     "execution_count": 2,
     "metadata": {},
     "output_type": "execute_result"
    }
   ],
   "source": [
    "now=Time.now()\n",
    "now=now\n",
    "now"
   ]
  },
  {
   "cell_type": "code",
   "execution_count": 3,
   "metadata": {},
   "outputs": [],
   "source": [
    "download_IERS_A()"
   ]
  },
  {
   "cell_type": "code",
   "execution_count": 4,
   "metadata": {},
   "outputs": [
    {
     "data": {
      "text/plain": [
       "<Observer: name='MIT-Telescope',\n",
       "    location (lon, lat, el)=(73.81472222222222 deg, 18.518611111111117 deg, 559.9999999994782 m),\n",
       "    timezone=<DstTzInfo 'Asia/Kolkata' LMT+5:53:00 STD>>"
      ]
     },
     "execution_count": 4,
     "metadata": {},
     "output_type": "execute_result"
    }
   ],
   "source": [
    "# Setting up our Observatory\n",
    "longitude='73d48m53s'\n",
    "latitude='18d31m7s'\n",
    "elevation= 560 * u.m \n",
    "location=EarthLocation(longitude,latitude,elevation)\n",
    "\n",
    "ioMIT=Observer(location=location,timezone='Asia/Kolkata',\n",
    "               name='MIT-Telescope',description=\"GSO-Newtonian Telescope MIT World Peace University\")\n",
    "\n",
    "ioMIT"
   ]
  },
  {
   "cell_type": "code",
   "execution_count": 5,
   "metadata": {},
   "outputs": [
    {
     "name": "stderr",
     "output_type": "stream",
     "text": [
      "/home/aaron/anaconda3/lib/python3.9/site-packages/astropy/time/utils.py:179: RuntimeWarning: overflow encountered in double_scalars\n",
      "  c = 134217729. * a  # 2**27+1.\n",
      "/home/aaron/anaconda3/lib/python3.9/site-packages/astropy/time/utils.py:181: RuntimeWarning: invalid value encountered in double_scalars\n",
      "  ah = c - abig\n"
     ]
    }
   ],
   "source": [
    "#Calculating the sunset, midnight and sunrise times for our observatory \n",
    "\n",
    "sunset_ioMIT=ioMIT.sun_set_time(now,which='nearest')\n",
    "even_twilight_ioMIT=ioMIT.twilight_evening_astronomical(now,which='nearest')\n",
    "midnight_ioMIT=ioMIT.midnight(now,which='next')\n",
    "morning_twilight_ioMIT=ioMIT.twilight_morning_astronomical(now,which='next')\n",
    "sunrise_IOMIT=ioMIT.sun_rise_time(now,which='next')\n"
   ]
  },
  {
   "cell_type": "code",
   "execution_count": 6,
   "metadata": {},
   "outputs": [
    {
     "data": {
      "text/latex": [
       "$9.6397064 \\; \\mathrm{h}$"
      ],
      "text/plain": [
       "<Quantity 9.63970644 h>"
      ]
     },
     "execution_count": 6,
     "metadata": {},
     "output_type": "execute_result"
    }
   ],
   "source": [
    "time_available=(morning_twilight_ioMIT-even_twilight_ioMIT).to(u.h)\n",
    "time_available"
   ]
  },
  {
   "cell_type": "code",
   "execution_count": 7,
   "metadata": {},
   "outputs": [],
   "source": [
    "local_siderial_time=ioMIT.local_sidereal_time(now)"
   ]
  },
  {
   "cell_type": "code",
   "execution_count": 8,
   "metadata": {},
   "outputs": [],
   "source": [
    "target=FixedTarget.from_name('m51')\n",
    "coordinates=target.coord"
   ]
  },
  {
   "cell_type": "code",
   "execution_count": 9,
   "metadata": {},
   "outputs": [
    {
     "data": {
      "text/plain": [
       "<SkyCoord (GCRS: obstime=2022-03-10 11:53:15.274510, obsgeoloc=(0., 0., 0.) m, obsgeovel=(0., 0., 0.) m / s): (ra, dec, distance) in (deg, deg, km)\n",
       "    (79.03671294, 25.25944591, 404126.41122894)>"
      ]
     },
     "execution_count": 9,
     "metadata": {},
     "output_type": "execute_result"
    }
   ],
   "source": [
    "moon=get_moon(now)\n",
    "moon"
   ]
  },
  {
   "cell_type": "code",
   "execution_count": 10,
   "metadata": {},
   "outputs": [
    {
     "data": {
      "text/plain": [
       "False"
      ]
     },
     "execution_count": 10,
     "metadata": {},
     "output_type": "execute_result"
    }
   ],
   "source": [
    "ioMIT.target_is_up(now,target)"
   ]
  },
  {
   "cell_type": "code",
   "execution_count": 11,
   "metadata": {},
   "outputs": [
    {
     "data": {
      "text/plain": [
       "<Time object: scale='utc' format='datetime' value=2022-03-10 17:23:15.274510>"
      ]
     },
     "execution_count": 11,
     "metadata": {},
     "output_type": "execute_result"
    }
   ],
   "source": [
    "ist=now+5*u.h+30*u.min\n",
    "ist"
   ]
  },
  {
   "cell_type": "code",
   "execution_count": 12,
   "metadata": {},
   "outputs": [],
   "source": [
    "target_availability=[]\n",
    "time=[]\n",
    "for i in range(0,20):\n",
    "    time_now=now+i*u.h\n",
    "    target_availability.append(ioMIT.target_is_up(time_now.to_value('iso'),target))\n",
    "    time.append(time_now)"
   ]
  },
  {
   "cell_type": "code",
   "execution_count": 13,
   "metadata": {},
   "outputs": [
    {
     "data": {
      "text/plain": [
       "[<Time object: scale='utc' format='datetime' value=2022-03-10 11:53:15.274510>,\n",
       " <Time object: scale='utc' format='datetime' value=2022-03-10 12:53:15.274510>,\n",
       " <Time object: scale='utc' format='datetime' value=2022-03-10 13:53:15.274510>,\n",
       " <Time object: scale='utc' format='datetime' value=2022-03-10 14:53:15.274510>,\n",
       " <Time object: scale='utc' format='datetime' value=2022-03-10 15:53:15.274510>,\n",
       " <Time object: scale='utc' format='datetime' value=2022-03-10 16:53:15.274510>,\n",
       " <Time object: scale='utc' format='datetime' value=2022-03-10 17:53:15.274510>,\n",
       " <Time object: scale='utc' format='datetime' value=2022-03-10 18:53:15.274510>,\n",
       " <Time object: scale='utc' format='datetime' value=2022-03-10 19:53:15.274510>,\n",
       " <Time object: scale='utc' format='datetime' value=2022-03-10 20:53:15.274510>,\n",
       " <Time object: scale='utc' format='datetime' value=2022-03-10 21:53:15.274510>,\n",
       " <Time object: scale='utc' format='datetime' value=2022-03-10 22:53:15.274510>,\n",
       " <Time object: scale='utc' format='datetime' value=2022-03-10 23:53:15.274510>,\n",
       " <Time object: scale='utc' format='datetime' value=2022-03-11 00:53:15.274510>,\n",
       " <Time object: scale='utc' format='datetime' value=2022-03-11 01:53:15.274510>,\n",
       " <Time object: scale='utc' format='datetime' value=2022-03-11 02:53:15.274510>,\n",
       " <Time object: scale='utc' format='datetime' value=2022-03-11 03:53:15.274510>,\n",
       " <Time object: scale='utc' format='datetime' value=2022-03-11 04:53:15.274510>,\n",
       " <Time object: scale='utc' format='datetime' value=2022-03-11 05:53:15.274510>,\n",
       " <Time object: scale='utc' format='datetime' value=2022-03-11 06:53:15.274510>]"
      ]
     },
     "execution_count": 13,
     "metadata": {},
     "output_type": "execute_result"
    }
   ],
   "source": [
    "time"
   ]
  },
  {
   "cell_type": "code",
   "execution_count": 14,
   "metadata": {},
   "outputs": [],
   "source": [
    "time_table=[]\n",
    "for i in time:\n",
    "    time_table.append(i.to_value('iso'))"
   ]
  },
  {
   "cell_type": "code",
   "execution_count": 15,
   "metadata": {},
   "outputs": [
    {
     "data": {
      "text/plain": [
       "[<Quantity -3.58023323>,\n",
       " <Quantity -6.26474217>,\n",
       " <Quantity -76.55912704>,\n",
       " <Quantity 6.65197529>,\n",
       " <Quantity 3.13126125>,\n",
       " <Quantity 2.072784>,\n",
       " <Quantity 1.5913296>,\n",
       " <Quantity 1.33824737>,\n",
       " <Quantity 1.20362721>,\n",
       " <Quantity 1.14494191>,\n",
       " <Quantity 1.1466808>,\n",
       " <Quantity 1.20927861>,\n",
       " <Quantity 1.34939838>,\n",
       " <Quantity 1.61196456>,\n",
       " <Quantity 2.1138054>,\n",
       " <Quantity 3.23288868>,\n",
       " <Quantity 7.12742243>,\n",
       " <Quantity -44.65961396>,\n",
       " <Quantity -5.9660327>,\n",
       " <Quantity -3.50363297>]"
      ]
     },
     "execution_count": 15,
     "metadata": {},
     "output_type": "execute_result"
    }
   ],
   "source": [
    "# airmass at the specified timings\n",
    "airmass=[]\n",
    "for i in time:\n",
    "    airmass_now=ioMIT.altaz(i,target)\n",
    "    airmass_now=airmass_now.altaz\n",
    "    airmass.append(airmass_now.secz)\n",
    "airmass"
   ]
  },
  {
   "cell_type": "code",
   "execution_count": 16,
   "metadata": {},
   "outputs": [],
   "source": [
    "from astropy.table import QTable"
   ]
  },
  {
   "cell_type": "code",
   "execution_count": 17,
   "metadata": {},
   "outputs": [],
   "source": [
    "a=np.array(time_table)\n",
    "b=np.array(target_availability)\n",
    "c=np.array(airmass)"
   ]
  },
  {
   "cell_type": "code",
   "execution_count": 18,
   "metadata": {},
   "outputs": [],
   "source": [
    "t=QTable([a,b,c],names=['Time (UTC)','Visibility of m51','Airmass'])"
   ]
  },
  {
   "cell_type": "code",
   "execution_count": 19,
   "metadata": {},
   "outputs": [
    {
     "data": {
      "text/html": [
       "<div><i>QTable length=20</i>\n",
       "<table id=\"table139920285179568\" class=\"table-striped table-bordered table-condensed\">\n",
       "<thead><tr><th>Time (UTC)</th><th>Visibility of m51</th><th>Airmass</th></tr></thead>\n",
       "<thead><tr><th>str23</th><th>bool</th><th>float64</th></tr></thead>\n",
       "<tr><td>2022-03-10 11:53:15.275</td><td>False</td><td>-3.5802332332446847</td></tr>\n",
       "<tr><td>2022-03-10 12:53:15.275</td><td>False</td><td>-6.264742173365685</td></tr>\n",
       "<tr><td>2022-03-10 13:53:15.275</td><td>False</td><td>-76.55912704471426</td></tr>\n",
       "<tr><td>2022-03-10 14:53:15.275</td><td>True</td><td>6.6519752890799895</td></tr>\n",
       "<tr><td>2022-03-10 15:53:15.275</td><td>True</td><td>3.1312612469974686</td></tr>\n",
       "<tr><td>2022-03-10 16:53:15.275</td><td>True</td><td>2.072783995465948</td></tr>\n",
       "<tr><td>2022-03-10 17:53:15.275</td><td>True</td><td>1.5913295951199005</td></tr>\n",
       "<tr><td>2022-03-10 18:53:15.275</td><td>True</td><td>1.3382473652357454</td></tr>\n",
       "<tr><td>2022-03-10 19:53:15.275</td><td>True</td><td>1.2036272146343756</td></tr>\n",
       "<tr><td>2022-03-10 20:53:15.275</td><td>True</td><td>1.1449419118497044</td></tr>\n",
       "<tr><td>2022-03-10 21:53:15.275</td><td>True</td><td>1.1466808038128589</td></tr>\n",
       "<tr><td>2022-03-10 22:53:15.275</td><td>True</td><td>1.209278605678671</td></tr>\n",
       "<tr><td>2022-03-10 23:53:15.275</td><td>True</td><td>1.3493983796410347</td></tr>\n",
       "<tr><td>2022-03-11 00:53:15.275</td><td>True</td><td>1.6119645567462213</td></tr>\n",
       "<tr><td>2022-03-11 01:53:15.275</td><td>True</td><td>2.1138054001185487</td></tr>\n",
       "<tr><td>2022-03-11 02:53:15.275</td><td>True</td><td>3.232888676192137</td></tr>\n",
       "<tr><td>2022-03-11 03:53:15.275</td><td>True</td><td>7.12742243445266</td></tr>\n",
       "<tr><td>2022-03-11 04:53:15.275</td><td>False</td><td>-44.65961396000327</td></tr>\n",
       "<tr><td>2022-03-11 05:53:15.275</td><td>False</td><td>-5.966032703169773</td></tr>\n",
       "<tr><td>2022-03-11 06:53:15.275</td><td>False</td><td>-3.50363297459045</td></tr>\n",
       "</table></div>"
      ],
      "text/plain": [
       "<QTable length=20>\n",
       "       Time (UTC)       Visibility of m51       Airmass      \n",
       "         str23                 bool             float64      \n",
       "----------------------- ----------------- -------------------\n",
       "2022-03-10 11:53:15.275             False -3.5802332332446847\n",
       "2022-03-10 12:53:15.275             False  -6.264742173365685\n",
       "2022-03-10 13:53:15.275             False  -76.55912704471426\n",
       "2022-03-10 14:53:15.275              True  6.6519752890799895\n",
       "2022-03-10 15:53:15.275              True  3.1312612469974686\n",
       "2022-03-10 16:53:15.275              True   2.072783995465948\n",
       "2022-03-10 17:53:15.275              True  1.5913295951199005\n",
       "2022-03-10 18:53:15.275              True  1.3382473652357454\n",
       "2022-03-10 19:53:15.275              True  1.2036272146343756\n",
       "2022-03-10 20:53:15.275              True  1.1449419118497044\n",
       "2022-03-10 21:53:15.275              True  1.1466808038128589\n",
       "2022-03-10 22:53:15.275              True   1.209278605678671\n",
       "2022-03-10 23:53:15.275              True  1.3493983796410347\n",
       "2022-03-11 00:53:15.275              True  1.6119645567462213\n",
       "2022-03-11 01:53:15.275              True  2.1138054001185487\n",
       "2022-03-11 02:53:15.275              True   3.232888676192137\n",
       "2022-03-11 03:53:15.275              True    7.12742243445266\n",
       "2022-03-11 04:53:15.275             False  -44.65961396000327\n",
       "2022-03-11 05:53:15.275             False  -5.966032703169773\n",
       "2022-03-11 06:53:15.275             False   -3.50363297459045"
      ]
     },
     "execution_count": 19,
     "metadata": {},
     "output_type": "execute_result"
    }
   ],
   "source": [
    "t"
   ]
  },
  {
   "cell_type": "code",
   "execution_count": 24,
   "metadata": {},
   "outputs": [
    {
     "name": "stderr",
     "output_type": "stream",
     "text": [
      "/home/aaron/anaconda3/lib/python3.9/site-packages/astroplan/plots/time_dependent.py:194: UserWarning: linestyle is redundantly defined by the 'linestyle' keyword argument and the fmt string \"-\" (-> linestyle='-'). The keyword argument will take precedence.\n",
      "  ax.plot_date(timetoplot.plot_date, masked_airmass, label=target_name, **style_kwargs)\n"
     ]
    },
    {
     "data": {
      "text/plain": [
       "(10.0, 0.5)"
      ]
     },
     "execution_count": 24,
     "metadata": {},
     "output_type": "execute_result"
    },
    {
     "data": {
      "image/png": "[encoded data removed]",
      "text/plain": [
       "<Figure size 432x288 with 1 Axes>"
      ]
     },
     "metadata": {
      "needs_background": "light"
     },
     "output_type": "display_data"
    }
   ],
   "source": [
    "from astroplan.plots import plot_airmass,plot_sky\n",
    "import matplotlib.pyplot as plt\n",
    "\n",
    "plot_airmass(target, ioMIT, time_table)\n",
    "plt.ylim(10,0.5)"
   ]
  },
  {
   "cell_type": "code",
   "execution_count": 25,
   "metadata": {},
   "outputs": [],
   "source": [
    "t_start=time[0]\n",
    "t_end=time[len(time)-1]"
   ]
  },
  {
   "cell_type": "code",
   "execution_count": 26,
   "metadata": {},
   "outputs": [
    {
     "name": "stderr",
     "output_type": "stream",
     "text": [
      "/home/aaron/anaconda3/lib/python3.9/site-packages/astroplan/plots/sky.py:120: MatplotlibDeprecationWarning: Calling gca() with keyword arguments was deprecated in Matplotlib 3.4. Starting two minor releases later, gca() will take no keyword arguments. The gca() function should only be used to get the current axes, or if no axes exist, create new axes with default keyword arguments. To create a new axes with non-default arguments, use plt.axes() or plt.subplot().\n",
      "  ax = plt.gca(projection='polar')\n"
     ]
    },
    {
     "data": {
      "text/plain": [
       "<PolarAxesSubplot:>"
      ]
     },
     "execution_count": 26,
     "metadata": {},
     "output_type": "execute_result"
    },
    {
     "data": {
      "image/png": "[encoded data removed]",
      "text/plain": [
       "<Figure size 432x288 with 1 Axes>"
      ]
     },
     "metadata": {
      "needs_background": "light"
     },
     "output_type": "display_data"
    }
   ],
   "source": [
    "t_observe=t_start-(t_end-t_start)*np.linspace(0.0,1.0,20)\n",
    "plot_sky(target,ioMIT,t_observe)"
   ]
  },
  {
   "cell_type": "code",
   "execution_count": null,
   "metadata": {},
   "outputs": [],
   "source": []
  }
 ],
 "metadata": {
  "interpreter": {
   "hash": "2be5faf79681da6f2a61fdfdd5405d65d042280f7fba6178067603e3a2925119"
  },
  "kernelspec": {
   "display_name": "Python 3 (ipykernel)",
   "language": "python",
   "name": "python3"
  },
  "language_info": {
   "codemirror_mode": {
    "name": "ipython",
    "version": 3
   },
   "file_extension": ".py",
   "mimetype": "text/x-python",
   "name": "python",
   "nbconvert_exporter": "python",
   "pygments_lexer": "ipython3",
   "version": "3.9.7"
  }
 },
 "nbformat": 4,
 "nbformat_minor": 2
}
